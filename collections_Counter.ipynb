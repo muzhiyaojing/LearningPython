{
  "nbformat": 4,
  "nbformat_minor": 0,
  "metadata": {
    "colab": {
      "name": "collections.Counter.ipynb",
      "version": "0.3.2",
      "provenance": [],
      "include_colab_link": true
    },
    "kernelspec": {
      "name": "python3",
      "display_name": "Python 3"
    }
  },
  "cells": [
    {
      "cell_type": "markdown",
      "metadata": {
        "id": "view-in-github",
        "colab_type": "text"
      },
      "source": [
        "<a href=\"https://colab.research.google.com/github/muzhiyaojing/LearningPython/blob/master/collections_Counter.ipynb\" target=\"_parent\"><img src=\"https://colab.research.google.com/assets/colab-badge.svg\" alt=\"Open In Colab\"/></a>"
      ]
    },
    {
      "cell_type": "markdown",
      "metadata": {
        "id": "3sf1tVDnS-fS",
        "colab_type": "text"
      },
      "source": [
        "### Collection.Counter\n",
        "\n",
        "#### 1. Counter is a subclass of dictionary  \n",
        "#### 2. Counter is used to count the hashable objects. 暂时不懂什么是hashable objects（2019/09/07）\n",
        "#### 3. The elements of the iterable can be counted by using Counter\n",
        "#### 4. The Counter is an unordered collection. The elements are stored as dictionary keys and counts as dictionary values\n",
        "#### 5. You can apply arithmetic operations on Counter objects\n"
      ]
    },
    {
      "cell_type": "markdown",
      "metadata": {
        "id": "9FX7Od9cU3s6",
        "colab_type": "text"
      },
      "source": [
        "### 1. Count elements in a list"
      ]
    },
    {
      "cell_type": "code",
      "metadata": {
        "id": "i7onojvJUpNL",
        "colab_type": "code",
        "outputId": "83d28cca-0f38-4f38-a477-eea3590b2ccc",
        "colab": {
          "base_uri": "https://localhost:8080/",
          "height": 68
        }
      },
      "source": [
        "from collections import Counter\n",
        "tst_list = ['Python', 'C++', 'C', 'Java', 'Python', 'C', 'Python', 'C++', 'Python', 'C']\n",
        "result1 = Counter(tst_list)\n",
        "result2 = Counter(tst_list).items()\n",
        "print(result1)\n",
        "print(result2)\n",
        "print('The occurance of \"Python\" is '+ str(result1['Python']))\n",
        "\n"
      ],
      "execution_count": 0,
      "outputs": [
        {
          "output_type": "stream",
          "text": [
            "Counter({'Python': 4, 'C': 3, 'C++': 2, 'Java': 1})\n",
            "dict_items([('Python', 4), ('C++', 2), ('C', 3), ('Java', 1)])\n",
            "The occurance of Python is 4\n"
          ],
          "name": "stdout"
        }
      ]
    },
    {
      "cell_type": "markdown",
      "metadata": {
        "id": "s6INbGUuYDCc",
        "colab_type": "text"
      },
      "source": [
        "### 2. Count characters in a string"
      ]
    },
    {
      "cell_type": "code",
      "metadata": {
        "id": "PeZInzCuYGSX",
        "colab_type": "code",
        "outputId": "71064075-c8b6-4ad4-9b18-2168faec07c2",
        "colab": {
          "base_uri": "https://localhost:8080/",
          "height": 51
        }
      },
      "source": [
        "from collections import Counter\n",
        "tst_string ='Hello, Google!'\n",
        "result1 = Counter(tst_string)\n",
        "print(result1)\n",
        "print('The occurance of \"G\" is '+str(result1['G']))"
      ],
      "execution_count": 0,
      "outputs": [
        {
          "output_type": "stream",
          "text": [
            "Counter({'l': 3, 'o': 3, 'e': 2, 'H': 1, ',': 1, ' ': 1, 'G': 1, 'g': 1, '!': 1})\n",
            "The occurance of \"G\" is 1\n"
          ],
          "name": "stdout"
        }
      ]
    },
    {
      "cell_type": "markdown",
      "metadata": {
        "id": "FWNieNv4aNwy",
        "colab_type": "text"
      },
      "source": [
        "### 3. Count numbers in a tuple"
      ]
    },
    {
      "cell_type": "code",
      "metadata": {
        "id": "QY698p_HaRcq",
        "colab_type": "code",
        "outputId": "a704e814-29fa-4608-e2e2-b236ee30aa1b",
        "colab": {
          "base_uri": "https://localhost:8080/",
          "height": 34
        }
      },
      "source": [
        "from collections import Counter\n",
        "tst_tuple=(1,2,2,2,3,4,5)\n",
        "result1 = Counter(tst_tuple)\n",
        "print(result1)"
      ],
      "execution_count": 0,
      "outputs": [
        {
          "output_type": "stream",
          "text": [
            "Counter({2: 3, 1: 1, 3: 1, 4: 1, 5: 1})\n"
          ],
          "name": "stdout"
        }
      ]
    },
    {
      "cell_type": "markdown",
      "metadata": {
        "id": "LJsMHBsJabTL",
        "colab_type": "text"
      },
      "source": [
        "### 4. Perform Arithmetric Operations on two Counter Object"
      ]
    },
    {
      "cell_type": "code",
      "metadata": {
        "id": "8tp3Vj6OahP_",
        "colab_type": "code",
        "outputId": "9be760e3-efaf-4c80-896e-5596f9f906e9",
        "colab": {
          "base_uri": "https://localhost:8080/",
          "height": 102
        }
      },
      "source": [
        "from collections import Counter\n",
        "counter1 = Counter([5,7,10])\n",
        "counter2 = Counter([1,5,7])\n",
        "print(counter1)\n",
        "print(counter2)\n",
        "print(counter1+counter2)\n",
        "print(counter1-counter2) # result is the element only exist in counter1\n",
        "print(counter1&counter2) # result is the intersection of counter1 and counter2"
      ],
      "execution_count": 0,
      "outputs": [
        {
          "output_type": "stream",
          "text": [
            "Counter({5: 1, 7: 1, 10: 1})\n",
            "Counter({1: 1, 5: 1, 7: 1})\n",
            "Counter({5: 2, 7: 2, 10: 1, 1: 1})\n",
            "Counter({10: 1})\n",
            "Counter({5: 1, 7: 1})\n"
          ],
          "name": "stdout"
        }
      ]
    },
    {
      "cell_type": "markdown",
      "metadata": {
        "id": "o1EHvRPobfQl",
        "colab_type": "text"
      },
      "source": [
        "### 5. How to create a Counter"
      ]
    },
    {
      "cell_type": "markdown",
      "metadata": {
        "id": "muTW0KXSS9aG",
        "colab_type": "text"
      },
      "source": [
        ""
      ]
    },
    {
      "cell_type": "code",
      "metadata": {
        "id": "nP-sfwSvbrWS",
        "colab_type": "code",
        "outputId": "9e47e3e9-4ba0-4994-a3cc-56c571b1cef0",
        "colab": {
          "base_uri": "https://localhost:8080/",
          "height": 102
        }
      },
      "source": [
        "from collections import Counter\n",
        "\n",
        "# Method 1: Create from a list\n",
        "\n",
        "counter1 = Counter(['B','B','A','B','C','A','B','B','A','C'])\n",
        "print(counter1)\n",
        "\n",
        "# Method 2: Create from a string\n",
        "\n",
        "counter2 = Counter('Hello, World')\n",
        "print(counter2)\n",
        "\n",
        "# Method 3: Create from a tuple\n",
        "\n",
        "counter3 = Counter((1,2,3,4,2))\n",
        "print(counter3)\n",
        "\n",
        "# Method 4: Create from a dictionary\n",
        "counter4 = Counter({'A':2,'B':5,})\n",
        "print(counter4)\n",
        "\n",
        "# Method 5: Create from keyword arguments\n",
        "counter5 = Counter(A=3,B=9,C=2)   # 1. Only one pair of parenthesis. 2. No quote for key\n",
        "print(counter5)"
      ],
      "execution_count": 0,
      "outputs": [
        {
          "output_type": "stream",
          "text": [
            "Counter({'B': 5, 'A': 3, 'C': 2})\n",
            "Counter({'l': 3, 'o': 2, 'H': 1, 'e': 1, ',': 1, ' ': 1, 'W': 1, 'r': 1, 'd': 1})\n",
            "Counter({2: 2, 1: 1, 3: 1, 4: 1})\n",
            "Counter({'B': 5, 'A': 2})\n",
            "Counter({'B': 9, 'A': 3, 'C': 2})\n"
          ],
          "name": "stdout"
        }
      ]
    },
    {
      "cell_type": "markdown",
      "metadata": {
        "id": "2BppGIFadHCx",
        "colab_type": "text"
      },
      "source": [
        "### 6. Create an empty Counter, then update the Counter"
      ]
    },
    {
      "cell_type": "code",
      "metadata": {
        "id": "Hhp4HiPGdvLO",
        "colab_type": "code",
        "outputId": "d5e2ee41-9ee9-4a2b-aedd-b9b474a39293",
        "colab": {
          "base_uri": "https://localhost:8080/",
          "height": 68
        }
      },
      "source": [
        "from collections import Counter\n",
        "tst_counter = Counter()\n",
        "tst_counter.update([1, 2, 3, 1, 2, 1, 1, 2])\n",
        "print(tst_counter)\n",
        "tst_counter.update({1:2})\n",
        "print(tst_counter)\n",
        "tst_counter = tst_counter.update([1])  # Can not assign a Counter object to a variable, return a None object\n",
        "print(type(tst_counter))"
      ],
      "execution_count": 0,
      "outputs": [
        {
          "output_type": "stream",
          "text": [
            "Counter({1: 4, 2: 3, 3: 1})\n",
            "Counter({1: 6, 2: 3, 3: 1})\n",
            "<class 'NoneType'>\n"
          ],
          "name": "stdout"
        }
      ]
    },
    {
      "cell_type": "markdown",
      "metadata": {
        "id": "RIac-wfVgUtC",
        "colab_type": "text"
      },
      "source": [
        "### 7. Iterate through a Counter\n",
        "\n",
        "Once initialized, counters are accessed just like dictionaries. Also, it does not raise the KeyValue error (if key is not present) instead the value’s count is shown as 0"
      ]
    },
    {
      "cell_type": "code",
      "metadata": {
        "id": "HCm6tjLbgXyr",
        "colab_type": "code",
        "outputId": "64134791-4587-4986-e347-a237c41158c1",
        "colab": {
          "base_uri": "https://localhost:8080/",
          "height": 300
        }
      },
      "source": [
        "from collections import Counter\n",
        "\n",
        "tst_counter = Counter(['blue', 'red', 'blue', 'yellow', 'blue', 'red'] )\n",
        "print(tst_counter)\n",
        "\n",
        "for i in tst_counter:\n",
        "  print(i, tst_counter[i])\n",
        "  \n",
        "print(tst_counter['test'])  # if a key doesn't exist in a Counter, it won't raise error, instead, it will return 0\n",
        "\n",
        "tst_dictionary = {'blue':3,'yellow':1}\n",
        "print(tst_dictionary['blue'])\n",
        "print(tst_dictionary['tst'])  # In dictionary, this will raise KeyError"
      ],
      "execution_count": 0,
      "outputs": [
        {
          "output_type": "stream",
          "text": [
            "Counter({'blue': 3, 'red': 2, 'yellow': 1})\n",
            "blue 3\n",
            "red 2\n",
            "yellow 1\n",
            "0\n",
            "3\n"
          ],
          "name": "stdout"
        },
        {
          "output_type": "error",
          "ename": "KeyError",
          "evalue": "ignored",
          "traceback": [
            "\u001b[0;31m---------------------------------------------------------------------------\u001b[0m",
            "\u001b[0;31mKeyError\u001b[0m                                  Traceback (most recent call last)",
            "\u001b[0;32m<ipython-input-35-a59b8b285dec>\u001b[0m in \u001b[0;36m<module>\u001b[0;34m()\u001b[0m\n\u001b[1;32m     11\u001b[0m \u001b[0mtst_dictionary\u001b[0m \u001b[0;34m=\u001b[0m \u001b[0;34m{\u001b[0m\u001b[0;34m'blue'\u001b[0m\u001b[0;34m:\u001b[0m\u001b[0;36m3\u001b[0m\u001b[0;34m,\u001b[0m\u001b[0;34m'yellow'\u001b[0m\u001b[0;34m:\u001b[0m\u001b[0;36m1\u001b[0m\u001b[0;34m}\u001b[0m\u001b[0;34m\u001b[0m\u001b[0;34m\u001b[0m\u001b[0m\n\u001b[1;32m     12\u001b[0m \u001b[0mprint\u001b[0m\u001b[0;34m(\u001b[0m\u001b[0mtst_dictionary\u001b[0m\u001b[0;34m[\u001b[0m\u001b[0;34m'blue'\u001b[0m\u001b[0;34m]\u001b[0m\u001b[0;34m)\u001b[0m\u001b[0;34m\u001b[0m\u001b[0;34m\u001b[0m\u001b[0m\n\u001b[0;32m---> 13\u001b[0;31m \u001b[0mprint\u001b[0m\u001b[0;34m(\u001b[0m\u001b[0mtst_dictionary\u001b[0m\u001b[0;34m[\u001b[0m\u001b[0;34m'tst'\u001b[0m\u001b[0;34m]\u001b[0m\u001b[0;34m)\u001b[0m\u001b[0;34m\u001b[0m\u001b[0;34m\u001b[0m\u001b[0m\n\u001b[0m",
            "\u001b[0;31mKeyError\u001b[0m: 'tst'"
          ]
        }
      ]
    },
    {
      "cell_type": "markdown",
      "metadata": {
        "id": "nPOaolbLgbx1",
        "colab_type": "text"
      },
      "source": [
        "### 8. Counter Elements Method\n",
        "\n",
        "The elements() method returns an iterator that produces all of the items known to the Counter.\n",
        "Note : Elements with count <= 0 are not included.\n"
      ]
    },
    {
      "cell_type": "code",
      "metadata": {
        "id": "r8_2lWggggcK",
        "colab_type": "code",
        "outputId": "11b75cdb-4ae7-4679-b585-4195f1af7504",
        "colab": {
          "base_uri": "https://localhost:8080/",
          "height": 51
        }
      },
      "source": [
        "from collections import Counter\n",
        "\n",
        "coun = Counter(a=1, b=2, c=3) \n",
        "print(coun) \n",
        "  \n",
        "print(list(coun.elements()))  # print all the elements in a counter"
      ],
      "execution_count": 0,
      "outputs": [
        {
          "output_type": "stream",
          "text": [
            "Counter({'c': 3, 'b': 2, 'a': 1})\n",
            "['a', 'b', 'b', 'c', 'c', 'c']\n"
          ],
          "name": "stdout"
        }
      ]
    },
    {
      "cell_type": "markdown",
      "metadata": {
        "id": "VSQSLsIRgxhG",
        "colab_type": "text"
      },
      "source": [
        "### 9. Most_common() Method\n",
        "\n",
        "most_common() is used to produce a sequence of the n most frequently encountered input values and their respective counts."
      ]
    },
    {
      "cell_type": "code",
      "metadata": {
        "id": "wTNzqg3Xg1bR",
        "colab_type": "code",
        "outputId": "46efc49f-08b2-4fc0-aa36-1b0ea36e58c1",
        "colab": {
          "base_uri": "https://localhost:8080/",
          "height": 68
        }
      },
      "source": [
        "from collections import Counter\n",
        "\n",
        "tst_count = Counter(a=1,b=2,c=3)\n",
        "\n",
        "print(tst_count.most_common(2))  # argument n in most_common(n) method indicates the n most frequent elements\n",
        "\n",
        "for key, value in tst_count.most_common(2):\n",
        "  print('%s:%d' %(key,value))\n"
      ],
      "execution_count": 0,
      "outputs": [
        {
          "output_type": "stream",
          "text": [
            "[('c', 3), ('b', 2)]\n",
            "c:3\n",
            "b:2\n"
          ],
          "name": "stdout"
        }
      ]
    },
    {
      "cell_type": "markdown",
      "metadata": {
        "id": "8dZ-KJaYjzH2",
        "colab_type": "text"
      },
      "source": [
        "### 10. HackerRank collections.Counter() Challage\n",
        "\n",
        "https://www.hackerrank.com/challenges/collections-counter/problem"
      ]
    },
    {
      "cell_type": "code",
      "metadata": {
        "id": "m1DLMAzrklhS",
        "colab_type": "code",
        "outputId": "a45e8060-88b1-4d80-95f0-dc4bac41895a",
        "colab": {
          "base_uri": "https://localhost:8080/",
          "height": 187
        }
      },
      "source": [
        "from collections import Counter\n",
        "\n",
        "shoeNumber = int(input('Please enter the total number of shoes: '))\n",
        "shoeSize = input('Please enter the size of shoes and seperate by space: ')\n",
        "shoeSize = shoeSize.split(' ')\n",
        "shoeSize = Counter(shoeSize)\n",
        "customerNumber = int(input('Please enter the total number of customers'))\n",
        "i = 0 \n",
        "total = 0\n",
        "while i<customerNumber:\n",
        "  customerRequest = input('Please enter the shoe size and your bid.')\n",
        "  customerRequest = customerRequest.split(' ')\n",
        "  customerSize = customerRequest[0]\n",
        "  customerPrice = int(customerRequest[1])\n",
        "  i = i+1\n",
        "  if shoeSize[customerSize]!=0:\n",
        "    total = total + customerPrice\n",
        "    shoeSize[customerSize] = shoeSize[customerSize]-1\n",
        "    \n",
        "print(total)"
      ],
      "execution_count": 0,
      "outputs": [
        {
          "output_type": "stream",
          "text": [
            "Please enter the total number of shoes: 10\n",
            "Please enter the size of shoes and seperate by space: 2 3 4 5 6 8 7 6 5 18\n",
            "Please enter the total number of customers6\n",
            "Please enter the shoe size and your bid.6 55\n",
            "Please enter the shoe size and your bid.6 45\n",
            "Please enter the shoe size and your bid.6 55\n",
            "Please enter the shoe size and your bid.4 40\n",
            "Please enter the shoe size and your bid.18 60\n",
            "Please enter the shoe size and your bid.10 50\n",
            "200\n"
          ],
          "name": "stdout"
        }
      ]
    },
    {
      "cell_type": "code",
      "metadata": {
        "id": "q56uCAIa-qiG",
        "colab_type": "code",
        "outputId": "4c7c82b4-2bc2-4f13-bcd5-7f7eb9522edc",
        "colab": {
          "base_uri": "https://localhost:8080/",
          "height": 34
        }
      },
      "source": [
        "from collections import Counter\n",
        "\n",
        "a = Counter([1,2,3,4,2])\n",
        "b = {'1':2}\n",
        "#if b.keys in a.keys:\n",
        "#  print('Yes')\n",
        "#else: print('Cry')\n",
        "print(a.keys)"
      ],
      "execution_count": 0,
      "outputs": [
        {
          "output_type": "stream",
          "text": [
            "<built-in method keys of Counter object at 0x7fb2b40f1728>\n"
          ],
          "name": "stdout"
        }
      ]
    }
  ]
}