{
  "nbformat": 4,
  "nbformat_minor": 0,
  "metadata": {
    "colab": {
      "name": "collections.deque.ipynb",
      "version": "0.3.2",
      "provenance": [],
      "collapsed_sections": []
    },
    "kernelspec": {
      "name": "python3",
      "display_name": "Python 3"
    }
  },
  "cells": [
    {
      "cell_type": "markdown",
      "metadata": {
        "id": "z6xoeeRSnU7z",
        "colab_type": "text"
      },
      "source": [
        "### Deque in Python\n",
        "\n",
        "Deque is preferred over LIST in the cases where we need quicker append and pop operations from both the ends of container. Deque provides an O(1) time complexity for append and pop operations as compared to list which provides O(n) time complexity."
      ]
    },
    {
      "cell_type": "markdown",
      "metadata": {
        "id": "PltCbstyp7K_",
        "colab_type": "text"
      },
      "source": [
        "#### append and pop\n",
        "\n",
        "1. append()     --- insert the value to the right end of deque\n",
        "2. appendleft() --- insert the value to the left end of deque\n",
        "3. pop()        --- delete an argument from the right end of deque\n",
        "4. popleft()    --- delete an argument from the left end of deque"
      ]
    },
    {
      "cell_type": "code",
      "metadata": {
        "id": "NirUQHTPqeRJ",
        "colab_type": "code",
        "outputId": "c90fe9ca-2285-4d57-dc5a-77de56f4ccc3",
        "colab": {
          "base_uri": "https://localhost:8080/",
          "height": 187
        }
      },
      "source": [
        "from collections import deque\n",
        "\n",
        "# append and pop method add or delete an element from the original list, deque, it dones't return a new list/deque. \n",
        "# So do not assign the append(), pop() method result to a new variables. Those methods return NONE object.\n",
        "de = deque([1,2,3])\n",
        "print('The original deque is: ')\n",
        "print(de)\n",
        "de.append(6)\n",
        "print('Add 6 at the right end of deque: ')\n",
        "print(de)\n",
        "de.appendleft(4)\n",
        "print('Add 4 at the left end of deque: ')\n",
        "print(de)\n",
        "de.pop()\n",
        "print('Delete 6 at the right end of deque: ')\n",
        "print(de)\n",
        "de.popleft()\n",
        "print('Delete 4 at the left end of deque: ')\n",
        "print(de)\n",
        "\n",
        "# pop() and popleft() method doesn't take argument."
      ],
      "execution_count": 0,
      "outputs": [
        {
          "output_type": "stream",
          "text": [
            "The original deque is: \n",
            "deque([1, 2, 3])\n",
            "Add 6 at the right end of deque: \n",
            "deque([1, 2, 3, 6])\n",
            "Add 4 at the left end of deque: \n",
            "deque([4, 1, 2, 3, 6])\n",
            "Delete 6 at the right end of deque: \n",
            "deque([4, 1, 2, 3])\n",
            "Delete 4 at the left end of deque: \n",
            "deque([1, 2, 3])\n"
          ],
          "name": "stdout"
        }
      ]
    },
    {
      "cell_type": "markdown",
      "metadata": {
        "id": "FSgdkf5oteIc",
        "colab_type": "text"
      },
      "source": [
        "5. index(ele,beg,end): returns the first index of the value mentioned in arguments, starting searching from beg till end index\n",
        "6. insert(i,a): insert value a at index i\n",
        "7. remove(): removes the first occurence of value mentioned in arguments.\n",
        "8. count(): counts the number of occurances of value mentioned in arguments."
      ]
    },
    {
      "cell_type": "code",
      "metadata": {
        "id": "bLJkWk5mnTZ4",
        "colab_type": "code",
        "outputId": "f00c911e-dc3a-4d6a-d10c-02f99580af95",
        "colab": {
          "base_uri": "https://localhost:8080/",
          "height": 187
        }
      },
      "source": [
        "from collections import deque\n",
        "\n",
        "de = deque([1,2,3,3,4,2,4])\n",
        "\n",
        "print(\"The original deque is:\")\n",
        "print(de)\n",
        "\n",
        "print(\"The number 4 first occurs between the third position and the sixth position is: \")\n",
        "print(de.index(4,2,5))\n",
        "\n",
        "de.insert(4,3)  # if the method makes modification to the original deque, you can not use print(de.insert(4,3)) directly\n",
        "\n",
        "print(\"Insert 3 at 5th position is: \")\n",
        "print(de) # Pay attention to the value and index order\n",
        "\n",
        "print(\"The count of 3 in deque is: \")\n",
        "print(de.count(3))\n",
        "\n",
        "de.remove(3)\n",
        "\n",
        "print(\"Remove the first occurence of 3: \")\n",
        "print(de)"
      ],
      "execution_count": 0,
      "outputs": [
        {
          "output_type": "stream",
          "text": [
            "The original deque is:\n",
            "deque([1, 2, 3, 3, 4, 2, 4])\n",
            "The number 4 first occurs between the third position and the sixth position is: \n",
            "4\n",
            "Insert 3 at 5th position is: \n",
            "deque([1, 2, 3, 3, 3, 4, 2, 4])\n",
            "The count of 3 in deque is: \n",
            "3\n",
            "Remove the first occurence of 3: \n",
            "deque([1, 2, 3, 3, 4, 2, 4])\n"
          ],
          "name": "stdout"
        }
      ]
    },
    {
      "cell_type": "markdown",
      "metadata": {
        "id": "_bzXIwEXxgUj",
        "colab_type": "text"
      },
      "source": [
        "9. extend(iterable) ： add multiple values at the right end of deque\n",
        "10. extendleft(interable): add multiple values at the left end of deque\n",
        "11. reverse(): reverse order of deque elemetns\n",
        "12. rotate():  rotates the deque by the number specified in arguments. If the number specified is negative, rotation occurs to the left. Else rotation is to right. "
      ]
    },
    {
      "cell_type": "code",
      "metadata": {
        "id": "GSsbu8ekzPcR",
        "colab_type": "code",
        "outputId": "9e3be7a8-011f-4c7b-e6d3-18b142c8c45c",
        "colab": {
          "base_uri": "https://localhost:8080/",
          "height": 187
        }
      },
      "source": [
        "from collections import deque\n",
        "\n",
        "de = deque([1,2,3])\n",
        "\n",
        "print('The original deque is: ')\n",
        "print(de)\n",
        "\n",
        "de.extend([4,5,6])\n",
        "print('deque after extending: ')\n",
        "print(de)\n",
        "\n",
        "de.extendleft([7,8,9])\n",
        "print('deque after left extending: ')\n",
        "print(de)\n",
        "\n",
        "\n",
        "de.rotate(-3)\n",
        "print('deque after rotating: ') # rotates by 3 to left\n",
        "print(de)\n",
        "\n",
        "de.reverse()\n",
        "print('deque after reversing: ')\n",
        "print(de)"
      ],
      "execution_count": 0,
      "outputs": [
        {
          "output_type": "stream",
          "text": [
            "The original deque is: \n",
            "deque([1, 2, 3])\n",
            "deque after extending: \n",
            "deque([1, 2, 3, 4, 5, 6])\n",
            "deque after left extending: \n",
            "deque([9, 8, 7, 1, 2, 3, 4, 5, 6])\n",
            "deque after rotating: \n",
            "deque([1, 2, 3, 4, 5, 6, 9, 8, 7])\n",
            "deque after reversing: \n",
            "deque([7, 8, 9, 6, 5, 4, 3, 2, 1])\n"
          ],
          "name": "stdout"
        }
      ]
    },
    {
      "cell_type": "markdown",
      "metadata": {
        "id": "OKTdzOhG01FQ",
        "colab_type": "text"
      },
      "source": [
        "## HackerRank Challenge\n",
        "\n",
        "### Task\n",
        "\n",
        "Perform append, pop, popleft and appendleft methods on an empty deque .\n",
        "\n",
        "### Input Format\n",
        "\n",
        "The first line contains an integer N, the number of operations. \n",
        "The next N lines contains the space separated names of methods and their values.\n",
        "\n",
        "### Output Format\n",
        "\n",
        "Print the space separated elements of deque .\n",
        "\n",
        "https://www.hackerrank.com/challenges/py-collections-deque/problem"
      ]
    },
    {
      "cell_type": "code",
      "metadata": {
        "id": "PgaxZR3y1F2n",
        "colab_type": "code",
        "outputId": "35096887-baf9-4486-e72f-f570e45abef0",
        "colab": {
          "base_uri": "https://localhost:8080/",
          "height": 68
        }
      },
      "source": [
        "# My code \n",
        "\n",
        "from collections import deque\n",
        "\n",
        "numberOfTask = int(input('Please enter the number of task: '))\n",
        "de = deque()\n",
        "i = 0 \n",
        "while i < numberOfTask:\n",
        "  task = input('Please enter the task name and value seperated by space')\n",
        "  taskname = task.split(' ')[0]\n",
        "  if task.find(' ')>0:\n",
        "    taskvalue = int(task.split(' ')[1])\n",
        "    run = 'de.'+taskname+'('+ str(taskvalue) +')'\n",
        "    exec(run)\n",
        "  else:\n",
        "    run1 = 'de.'+taskname+'()'\n",
        "    run1\n",
        "    exec(run1)\n",
        "  i=i+1\n",
        "print(*[item for item in de])"
      ],
      "execution_count": 0,
      "outputs": [
        {
          "output_type": "stream",
          "text": [
            "Please enter the number of task: 1\n",
            "Please enter the task name and value seperated by spaceappend 1\n",
            "1\n"
          ],
          "name": "stdout"
        }
      ]
    },
    {
      "cell_type": "code",
      "metadata": {
        "id": "wZ2tnHxq4QQP",
        "colab_type": "code",
        "outputId": "a20ac00f-b15c-4d20-b60b-17a69cb327e7",
        "colab": {
          "base_uri": "https://localhost:8080/",
          "height": 68
        }
      },
      "source": [
        "# code in forum\n",
        "\n",
        "from collections import deque\n",
        "\n",
        "de = deque()\n",
        "\n",
        "for _ in range(int(input('Please enter the number of taks: '))):\n",
        "  inp = input('Please enter the task name and value seperated by space: ').split()\n",
        "  getattr(de,inp[0])(*[inp[1]] if len(inp)>1 else [])\n",
        "\n",
        "print(*[item for item in de])"
      ],
      "execution_count": 0,
      "outputs": [
        {
          "output_type": "stream",
          "text": [
            "Please enter the number of taks: 1\n",
            "Please enter the task name and value seperated by space: append 1\n",
            "1\n"
          ],
          "name": "stdout"
        }
      ]
    }
  ]
}